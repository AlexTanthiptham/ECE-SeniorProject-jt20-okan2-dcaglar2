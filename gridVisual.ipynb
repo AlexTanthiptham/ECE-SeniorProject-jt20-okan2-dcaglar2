{
 "cells": [
  {
   "cell_type": "code",
   "execution_count": 1,
   "metadata": {},
   "outputs": [],
   "source": [
    "import matplotlib.pyplot as plt\n",
    "BLACK = (0,0,0)\n",
    "WHITE = (255,255,255)"
   ]
  },
  {
   "cell_type": "code",
   "execution_count": 3,
   "metadata": {},
   "outputs": [
    {
     "name": "stdout",
     "output_type": "stream",
     "text": [
      "GRID SIZE:12, CELL SIZE:41\n"
     ]
    }
   ],
   "source": [
    "import numpy as np\n",
    "import cv2\n",
    "\n",
    "\n",
    "MAX_WIDTH = 1000\n",
    "MAX_HEIGHT = 500\n",
    "#irl settings\n",
    "CELL_IRL_DISTANCE = 1 #m\n",
    "SENSOR_IRL_MAX_DISTANCE =3 #m\n",
    "\n",
    "GRID_SIZE = int((SENSOR_IRL_MAX_DISTANCE*2)/CELL_IRL_DISTANCE)\n",
    "CELL_SIZE = int(min(MAX_WIDTH/GRID_SIZE,MAX_HEIGHT/GRID_SIZE))\n",
    "print(f\"GRID SIZE:{GRID_SIZE}, CELL SIZE:{CELL_SIZE}\")\n",
    "\n",
    "def draw_grid(grid, cell_size, grid_size):\n",
    "    img = np.ones((grid_size*cell_size, grid_size*cell_size, 3), dtype=np.uint8)*255\n",
    "    for i in range(grid_size):\n",
    "        for j in range(grid_size):\n",
    "            # print(max(grid[i][j]-0.5,0)*255)\n",
    "            danger = max(grid[i][j]-0.5,0)*255*2\n",
    "            color = (255-danger,255-danger,255)  # Create an RGB tuple\n",
    "            cv2.rectangle(img, (j*cell_size, i*cell_size), ((j+1)*cell_size-1, (i+1)*cell_size-1), color =color, thickness=-1)\n",
    "            cv2.rectangle(img, (j*cell_size, i*cell_size), ((j+1)*cell_size-1, (i+1)*cell_size-1), color =BLACK)\n",
    "            cv2.putText(img,f\"{SENSOR_IRL_MAX_DISTANCE- CELL_IRL_DISTANCE*i}m\",\n",
    "                        ((j+1)*cell_size-1, i*cell_size),cv2.FONT_HERSHEY_SIMPLEX, 0.5, (0, 0, 0), 1, cv2.LINE_AA)\n",
    "             # Add the probability value in the center of the cell\n",
    "            text = '{:.2f}'.format(grid[i][j])\n",
    "            text_size, baseline = cv2.getTextSize(text, cv2.FONT_HERSHEY_SIMPLEX, 0.5, 1)\n",
    "            text_x = j*cell_size + (cell_size - text_size[0]) // 2\n",
    "            text_y = i*cell_size + (cell_size + text_size[1]) // 2\n",
    "            cv2.putText(img, text, (text_x, text_y), cv2.FONT_HERSHEY_SIMPLEX, 0.5, (0, 0, 0), 1, cv2.LINE_AA)\n",
    "\n",
    "    return img\n",
    "def draw_robot(img):\n",
    "    # Add a circle to the center of the whole image\n",
    "    circle_x = img.shape[1] // 2\n",
    "    circle_y = img.shape[0] // 2\n",
    "    cv2.circle(img, (circle_x, circle_y), 45, (255, 0, 0), -1)\n",
    "grid = np.random.rand(GRID_SIZE, GRID_SIZE)\n",
    "\n",
    "img = draw_grid(grid, CELL_SIZE, GRID_SIZE)\n",
    "draw_robot(img)\n",
    "cv2.imshow('grid', img)\n",
    "cv2.waitKey(0)\n",
    "cv2.destroyAllWindows()\n"
   ]
  },
  {
   "cell_type": "code",
   "execution_count": null,
   "metadata": {},
   "outputs": [],
   "source": []
  },
  {
   "cell_type": "code",
   "execution_count": null,
   "metadata": {},
   "outputs": [],
   "source": []
  }
 ],
 "metadata": {
  "kernelspec": {
   "display_name": "Python 3",
   "language": "python",
   "name": "python3"
  },
  "language_info": {
   "codemirror_mode": {
    "name": "ipython",
    "version": 3
   },
   "file_extension": ".py",
   "mimetype": "text/x-python",
   "name": "python",
   "nbconvert_exporter": "python",
   "pygments_lexer": "ipython3",
   "version": "3.10.5"
  },
  "orig_nbformat": 4,
  "vscode": {
   "interpreter": {
    "hash": "369f2c481f4da34e4445cda3fffd2e751bd1c4d706f27375911949ba6bb62e1c"
   }
  }
 },
 "nbformat": 4,
 "nbformat_minor": 2
}
